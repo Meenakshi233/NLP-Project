{
 "cells": [
  {
   "cell_type": "code",
   "execution_count": 1,
   "id": "5afd8655-e1f2-4c9a-9c59-b9fa1bf2b3e9",
   "metadata": {},
   "outputs": [],
   "source": [
    "import numpy as np\n",
    "import pandas as pd\n",
    "import matplotlib.pyplot as plt\n",
    "import seaborn as sns\n",
    "\n",
    "import warnings\n",
    "warnings.filterwarnings('ignore')"
   ]
  },
  {
   "cell_type": "code",
   "execution_count": 2,
   "id": "d62471f0-e82c-4c4e-bca5-6a39d0bc360a",
   "metadata": {},
   "outputs": [],
   "source": [
    "df = pd.read_csv('train.csv')"
   ]
  },
  {
   "cell_type": "code",
   "execution_count": 3,
   "id": "142c177a-3e44-400c-a516-b24612247c0a",
   "metadata": {},
   "outputs": [
    {
     "data": {
      "text/plain": [
       "(404290, 6)"
      ]
     },
     "execution_count": 3,
     "metadata": {},
     "output_type": "execute_result"
    }
   ],
   "source": [
    "df.shape"
   ]
  },
  {
   "cell_type": "code",
   "execution_count": 4,
   "id": "692e21d7-923a-465d-9331-b7e5a4054507",
   "metadata": {},
   "outputs": [
    {
     "data": {
      "text/html": [
       "<div>\n",
       "<style scoped>\n",
       "    .dataframe tbody tr th:only-of-type {\n",
       "        vertical-align: middle;\n",
       "    }\n",
       "\n",
       "    .dataframe tbody tr th {\n",
       "        vertical-align: top;\n",
       "    }\n",
       "\n",
       "    .dataframe thead th {\n",
       "        text-align: right;\n",
       "    }\n",
       "</style>\n",
       "<table border=\"1\" class=\"dataframe\">\n",
       "  <thead>\n",
       "    <tr style=\"text-align: right;\">\n",
       "      <th></th>\n",
       "      <th>id</th>\n",
       "      <th>qid1</th>\n",
       "      <th>qid2</th>\n",
       "      <th>question1</th>\n",
       "      <th>question2</th>\n",
       "      <th>is_duplicate</th>\n",
       "    </tr>\n",
       "  </thead>\n",
       "  <tbody>\n",
       "    <tr>\n",
       "      <th>0</th>\n",
       "      <td>0</td>\n",
       "      <td>1</td>\n",
       "      <td>2</td>\n",
       "      <td>What is the step by step guide to invest in sh...</td>\n",
       "      <td>What is the step by step guide to invest in sh...</td>\n",
       "      <td>0</td>\n",
       "    </tr>\n",
       "    <tr>\n",
       "      <th>1</th>\n",
       "      <td>1</td>\n",
       "      <td>3</td>\n",
       "      <td>4</td>\n",
       "      <td>What is the story of Kohinoor (Koh-i-Noor) Dia...</td>\n",
       "      <td>What would happen if the Indian government sto...</td>\n",
       "      <td>0</td>\n",
       "    </tr>\n",
       "    <tr>\n",
       "      <th>2</th>\n",
       "      <td>2</td>\n",
       "      <td>5</td>\n",
       "      <td>6</td>\n",
       "      <td>How can I increase the speed of my internet co...</td>\n",
       "      <td>How can Internet speed be increased by hacking...</td>\n",
       "      <td>0</td>\n",
       "    </tr>\n",
       "    <tr>\n",
       "      <th>3</th>\n",
       "      <td>3</td>\n",
       "      <td>7</td>\n",
       "      <td>8</td>\n",
       "      <td>Why am I mentally very lonely? How can I solve...</td>\n",
       "      <td>Find the remainder when [math]23^{24}[/math] i...</td>\n",
       "      <td>0</td>\n",
       "    </tr>\n",
       "    <tr>\n",
       "      <th>4</th>\n",
       "      <td>4</td>\n",
       "      <td>9</td>\n",
       "      <td>10</td>\n",
       "      <td>Which one dissolve in water quikly sugar, salt...</td>\n",
       "      <td>Which fish would survive in salt water?</td>\n",
       "      <td>0</td>\n",
       "    </tr>\n",
       "  </tbody>\n",
       "</table>\n",
       "</div>"
      ],
      "text/plain": [
       "   id  qid1  qid2                                          question1  \\\n",
       "0   0     1     2  What is the step by step guide to invest in sh...   \n",
       "1   1     3     4  What is the story of Kohinoor (Koh-i-Noor) Dia...   \n",
       "2   2     5     6  How can I increase the speed of my internet co...   \n",
       "3   3     7     8  Why am I mentally very lonely? How can I solve...   \n",
       "4   4     9    10  Which one dissolve in water quikly sugar, salt...   \n",
       "\n",
       "                                           question2  is_duplicate  \n",
       "0  What is the step by step guide to invest in sh...             0  \n",
       "1  What would happen if the Indian government sto...             0  \n",
       "2  How can Internet speed be increased by hacking...             0  \n",
       "3  Find the remainder when [math]23^{24}[/math] i...             0  \n",
       "4            Which fish would survive in salt water?             0  "
      ]
     },
     "execution_count": 4,
     "metadata": {},
     "output_type": "execute_result"
    }
   ],
   "source": [
    "df.head()"
   ]
  },
  {
   "cell_type": "code",
   "execution_count": 5,
   "id": "9777d89e-1fdb-4f07-bbfc-d78ae61d86f1",
   "metadata": {},
   "outputs": [],
   "source": [
    "new_df = df.sample(30000, random_state=32)"
   ]
  },
  {
   "cell_type": "code",
   "execution_count": 6,
   "id": "221ac8fb-b09c-4045-8b28-0d5652dee49a",
   "metadata": {},
   "outputs": [
    {
     "data": {
      "text/html": [
       "<div>\n",
       "<style scoped>\n",
       "    .dataframe tbody tr th:only-of-type {\n",
       "        vertical-align: middle;\n",
       "    }\n",
       "\n",
       "    .dataframe tbody tr th {\n",
       "        vertical-align: top;\n",
       "    }\n",
       "\n",
       "    .dataframe thead th {\n",
       "        text-align: right;\n",
       "    }\n",
       "</style>\n",
       "<table border=\"1\" class=\"dataframe\">\n",
       "  <thead>\n",
       "    <tr style=\"text-align: right;\">\n",
       "      <th></th>\n",
       "      <th>id</th>\n",
       "      <th>qid1</th>\n",
       "      <th>qid2</th>\n",
       "      <th>question1</th>\n",
       "      <th>question2</th>\n",
       "      <th>is_duplicate</th>\n",
       "    </tr>\n",
       "  </thead>\n",
       "  <tbody>\n",
       "    <tr>\n",
       "      <th>225379</th>\n",
       "      <td>225379</td>\n",
       "      <td>333705</td>\n",
       "      <td>333706</td>\n",
       "      <td>How does a retailer decide what to sell when a...</td>\n",
       "      <td>How do retailers decide what to sell when arri...</td>\n",
       "      <td>1</td>\n",
       "    </tr>\n",
       "    <tr>\n",
       "      <th>295700</th>\n",
       "      <td>295700</td>\n",
       "      <td>412228</td>\n",
       "      <td>71129</td>\n",
       "      <td>What should I do if I want to become an entrep...</td>\n",
       "      <td>What can be the best idea to become an entrepr...</td>\n",
       "      <td>1</td>\n",
       "    </tr>\n",
       "    <tr>\n",
       "      <th>242505</th>\n",
       "      <td>242505</td>\n",
       "      <td>354719</td>\n",
       "      <td>354720</td>\n",
       "      <td>What is impact of Brexit on VAT?</td>\n",
       "      <td>What are the origins of blessings and curses?</td>\n",
       "      <td>0</td>\n",
       "    </tr>\n",
       "    <tr>\n",
       "      <th>372502</th>\n",
       "      <td>372502</td>\n",
       "      <td>246105</td>\n",
       "      <td>57540</td>\n",
       "      <td>How could I start my own business?</td>\n",
       "      <td>How do you start a tech startup?</td>\n",
       "      <td>0</td>\n",
       "    </tr>\n",
       "    <tr>\n",
       "      <th>248743</th>\n",
       "      <td>248743</td>\n",
       "      <td>362225</td>\n",
       "      <td>28173</td>\n",
       "      <td>What song has the lyrics: ashes on the ground,...</td>\n",
       "      <td>What are some good lyrical songs?</td>\n",
       "      <td>0</td>\n",
       "    </tr>\n",
       "  </tbody>\n",
       "</table>\n",
       "</div>"
      ],
      "text/plain": [
       "            id    qid1    qid2  \\\n",
       "225379  225379  333705  333706   \n",
       "295700  295700  412228   71129   \n",
       "242505  242505  354719  354720   \n",
       "372502  372502  246105   57540   \n",
       "248743  248743  362225   28173   \n",
       "\n",
       "                                                question1  \\\n",
       "225379  How does a retailer decide what to sell when a...   \n",
       "295700  What should I do if I want to become an entrep...   \n",
       "242505                   What is impact of Brexit on VAT?   \n",
       "372502                 How could I start my own business?   \n",
       "248743  What song has the lyrics: ashes on the ground,...   \n",
       "\n",
       "                                                question2  is_duplicate  \n",
       "225379  How do retailers decide what to sell when arri...             1  \n",
       "295700  What can be the best idea to become an entrepr...             1  \n",
       "242505      What are the origins of blessings and curses?             0  \n",
       "372502                   How do you start a tech startup?             0  \n",
       "248743                  What are some good lyrical songs?             0  "
      ]
     },
     "execution_count": 6,
     "metadata": {},
     "output_type": "execute_result"
    }
   ],
   "source": [
    "new_df.head()"
   ]
  },
  {
   "cell_type": "code",
   "execution_count": 7,
   "id": "b9ad0ecb-1453-4f93-885b-55bb8ca2b8d3",
   "metadata": {},
   "outputs": [
    {
     "data": {
      "text/plain": [
       "id              0\n",
       "qid1            0\n",
       "qid2            0\n",
       "question1       0\n",
       "question2       0\n",
       "is_duplicate    0\n",
       "dtype: int64"
      ]
     },
     "execution_count": 7,
     "metadata": {},
     "output_type": "execute_result"
    }
   ],
   "source": [
    "new_df.isnull().sum()"
   ]
  },
  {
   "cell_type": "code",
   "execution_count": 8,
   "id": "6eb8caba-22fd-4271-bbf9-86d84111fabd",
   "metadata": {},
   "outputs": [
    {
     "data": {
      "text/plain": [
       "np.int64(0)"
      ]
     },
     "execution_count": 8,
     "metadata": {},
     "output_type": "execute_result"
    }
   ],
   "source": [
    "new_df.duplicated().sum()"
   ]
  },
  {
   "cell_type": "code",
   "execution_count": 9,
   "id": "6c58e978-1ed2-426b-99ae-e50e349b4035",
   "metadata": {},
   "outputs": [
    {
     "name": "stdout",
     "output_type": "stream",
     "text": [
      "is_duplicate\n",
      "0    19067\n",
      "1    10933\n",
      "Name: count, dtype: int64\n",
      "is_duplicate\n",
      "0    63.556667\n",
      "1    36.443333\n",
      "Name: count, dtype: float64\n"
     ]
    },
    {
     "data": {
      "text/plain": [
       "<Axes: xlabel='is_duplicate'>"
      ]
     },
     "execution_count": 9,
     "metadata": {},
     "output_type": "execute_result"
    },
    {
     "data": {
      "image/png": "[encoded data removed]",
      "text/plain": [
       "<Figure size 640x480 with 1 Axes>"
      ]
     },
     "metadata": {},
     "output_type": "display_data"
    }
   ],
   "source": [
    "print(new_df['is_duplicate'].value_counts())\n",
    "print((new_df['is_duplicate'].value_counts()/new_df['is_duplicate'].count())*100)\n",
    "new_df['is_duplicate'].value_counts().plot(kind='bar')"
   ]
  },
  {
   "cell_type": "code",
   "execution_count": 10,
   "id": "c6d7ca4b-5d17-4ea7-8c58-1cfa96949ec9",
   "metadata": {},
   "outputs": [
    {
     "name": "stdout",
     "output_type": "stream",
     "text": [
      "Number of unique questions 55298\n",
      "Number of questions getting repeated 3473\n"
     ]
    }
   ],
   "source": [
    "qid = pd.Series(new_df['qid1'].tolist() + new_df['qid2'].tolist())\n",
    "print('Number of unique questions',np.unique(qid).shape[0])\n",
    "x = qid.value_counts()>1\n",
    "print('Number of questions getting repeated',x[x].shape[0])"
   ]
  },
  {
   "cell_type": "code",
   "execution_count": 11,
   "id": "a1550296-98e1-44be-92d4-d930dc6a3648",
   "metadata": {},
   "outputs": [
    {
     "data": {
      "image/png": "[encoded data removed]",
      "text/plain": [
       "<Figure size 640x480 with 1 Axes>"
      ]
     },
     "metadata": {},
     "output_type": "display_data"
    }
   ],
   "source": [
    "plt.hist(qid.value_counts().values,bins=160)\n",
    "plt.yscale('log')\n",
    "plt.show()"
   ]
  },
  {
   "cell_type": "code",
   "execution_count": 12,
   "id": "6d518716-e33f-4bae-b60e-82c5e7d203cb",
   "metadata": {},
   "outputs": [],
   "source": [
    "new_df['q1_len'] = new_df['question1'].str.len() \n",
    "new_df['q2_len'] = new_df['question2'].str.len()"
   ]
  },
  {
   "cell_type": "code",
   "execution_count": 13,
   "id": "45c42e92-673c-4fbe-bbfb-84596d32a9f3",
   "metadata": {},
   "outputs": [
    {
     "data": {
      "text/html": [
       "<div>\n",
       "<style scoped>\n",
       "    .dataframe tbody tr th:only-of-type {\n",
       "        vertical-align: middle;\n",
       "    }\n",
       "\n",
       "    .dataframe tbody tr th {\n",
       "        vertical-align: top;\n",
       "    }\n",
       "\n",
       "    .dataframe thead th {\n",
       "        text-align: right;\n",
       "    }\n",
       "</style>\n",
       "<table border=\"1\" class=\"dataframe\">\n",
       "  <thead>\n",
       "    <tr style=\"text-align: right;\">\n",
       "      <th></th>\n",
       "      <th>id</th>\n",
       "      <th>qid1</th>\n",
       "      <th>qid2</th>\n",
       "      <th>question1</th>\n",
       "      <th>question2</th>\n",
       "      <th>is_duplicate</th>\n",
       "      <th>q1_len</th>\n",
       "      <th>q2_len</th>\n",
       "    </tr>\n",
       "  </thead>\n",
       "  <tbody>\n",
       "    <tr>\n",
       "      <th>225379</th>\n",
       "      <td>225379</td>\n",
       "      <td>333705</td>\n",
       "      <td>333706</td>\n",
       "      <td>How does a retailer decide what to sell when a...</td>\n",
       "      <td>How do retailers decide what to sell when arri...</td>\n",
       "      <td>1</td>\n",
       "      <td>70</td>\n",
       "      <td>67</td>\n",
       "    </tr>\n",
       "    <tr>\n",
       "      <th>295700</th>\n",
       "      <td>295700</td>\n",
       "      <td>412228</td>\n",
       "      <td>71129</td>\n",
       "      <td>What should I do if I want to become an entrep...</td>\n",
       "      <td>What can be the best idea to become an entrepr...</td>\n",
       "      <td>1</td>\n",
       "      <td>82</td>\n",
       "      <td>52</td>\n",
       "    </tr>\n",
       "    <tr>\n",
       "      <th>242505</th>\n",
       "      <td>242505</td>\n",
       "      <td>354719</td>\n",
       "      <td>354720</td>\n",
       "      <td>What is impact of Brexit on VAT?</td>\n",
       "      <td>What are the origins of blessings and curses?</td>\n",
       "      <td>0</td>\n",
       "      <td>32</td>\n",
       "      <td>45</td>\n",
       "    </tr>\n",
       "    <tr>\n",
       "      <th>372502</th>\n",
       "      <td>372502</td>\n",
       "      <td>246105</td>\n",
       "      <td>57540</td>\n",
       "      <td>How could I start my own business?</td>\n",
       "      <td>How do you start a tech startup?</td>\n",
       "      <td>0</td>\n",
       "      <td>34</td>\n",
       "      <td>32</td>\n",
       "    </tr>\n",
       "    <tr>\n",
       "      <th>248743</th>\n",
       "      <td>248743</td>\n",
       "      <td>362225</td>\n",
       "      <td>28173</td>\n",
       "      <td>What song has the lyrics: ashes on the ground,...</td>\n",
       "      <td>What are some good lyrical songs?</td>\n",
       "      <td>0</td>\n",
       "      <td>69</td>\n",
       "      <td>33</td>\n",
       "    </tr>\n",
       "  </tbody>\n",
       "</table>\n",
       "</div>"
      ],
      "text/plain": [
       "            id    qid1    qid2  \\\n",
       "225379  225379  333705  333706   \n",
       "295700  295700  412228   71129   \n",
       "242505  242505  354719  354720   \n",
       "372502  372502  246105   57540   \n",
       "248743  248743  362225   28173   \n",
       "\n",
       "                                                question1  \\\n",
       "225379  How does a retailer decide what to sell when a...   \n",
       "295700  What should I do if I want to become an entrep...   \n",
       "242505                   What is impact of Brexit on VAT?   \n",
       "372502                 How could I start my own business?   \n",
       "248743  What song has the lyrics: ashes on the ground,...   \n",
       "\n",
       "                                                question2  is_duplicate  \\\n",
       "225379  How do retailers decide what to sell when arri...             1   \n",
       "295700  What can be the best idea to become an entrepr...             1   \n",
       "242505      What are the origins of blessings and curses?             0   \n",
       "372502                   How do you start a tech startup?             0   \n",
       "248743                  What are some good lyrical songs?             0   \n",
       "\n",
       "        q1_len  q2_len  \n",
       "225379      70      67  \n",
       "295700      82      52  \n",
       "242505      32      45  \n",
       "372502      34      32  \n",
       "248743      69      33  "
      ]
     },
     "execution_count": 13,
     "metadata": {},
     "output_type": "execute_result"
    }
   ],
   "source": [
    "new_df.head()"
   ]
  },
  {
   "cell_type": "code",
   "execution_count": 14,
   "id": "3eee4add-f437-448e-aa71-4ed1af58fe1f",
   "metadata": {},
   "outputs": [
    {
     "data": {
      "text/html": [
       "<div>\n",
       "<style scoped>\n",
       "    .dataframe tbody tr th:only-of-type {\n",
       "        vertical-align: middle;\n",
       "    }\n",
       "\n",
       "    .dataframe tbody tr th {\n",
       "        vertical-align: top;\n",
       "    }\n",
       "\n",
       "    .dataframe thead th {\n",
       "        text-align: right;\n",
       "    }\n",
       "</style>\n",
       "<table border=\"1\" class=\"dataframe\">\n",
       "  <thead>\n",
       "    <tr style=\"text-align: right;\">\n",
       "      <th></th>\n",
       "      <th>id</th>\n",
       "      <th>qid1</th>\n",
       "      <th>qid2</th>\n",
       "      <th>question1</th>\n",
       "      <th>question2</th>\n",
       "      <th>is_duplicate</th>\n",
       "      <th>q1_len</th>\n",
       "      <th>q2_len</th>\n",
       "      <th>q1_num_words</th>\n",
       "      <th>q2_num_words</th>\n",
       "    </tr>\n",
       "  </thead>\n",
       "  <tbody>\n",
       "    <tr>\n",
       "      <th>225379</th>\n",
       "      <td>225379</td>\n",
       "      <td>333705</td>\n",
       "      <td>333706</td>\n",
       "      <td>How does a retailer decide what to sell when a...</td>\n",
       "      <td>How do retailers decide what to sell when arri...</td>\n",
       "      <td>1</td>\n",
       "      <td>70</td>\n",
       "      <td>67</td>\n",
       "      <td>14</td>\n",
       "      <td>13</td>\n",
       "    </tr>\n",
       "    <tr>\n",
       "      <th>295700</th>\n",
       "      <td>295700</td>\n",
       "      <td>412228</td>\n",
       "      <td>71129</td>\n",
       "      <td>What should I do if I want to become an entrep...</td>\n",
       "      <td>What can be the best idea to become an entrepr...</td>\n",
       "      <td>1</td>\n",
       "      <td>82</td>\n",
       "      <td>52</td>\n",
       "      <td>18</td>\n",
       "      <td>10</td>\n",
       "    </tr>\n",
       "    <tr>\n",
       "      <th>242505</th>\n",
       "      <td>242505</td>\n",
       "      <td>354719</td>\n",
       "      <td>354720</td>\n",
       "      <td>What is impact of Brexit on VAT?</td>\n",
       "      <td>What are the origins of blessings and curses?</td>\n",
       "      <td>0</td>\n",
       "      <td>32</td>\n",
       "      <td>45</td>\n",
       "      <td>7</td>\n",
       "      <td>8</td>\n",
       "    </tr>\n",
       "    <tr>\n",
       "      <th>372502</th>\n",
       "      <td>372502</td>\n",
       "      <td>246105</td>\n",
       "      <td>57540</td>\n",
       "      <td>How could I start my own business?</td>\n",
       "      <td>How do you start a tech startup?</td>\n",
       "      <td>0</td>\n",
       "      <td>34</td>\n",
       "      <td>32</td>\n",
       "      <td>7</td>\n",
       "      <td>7</td>\n",
       "    </tr>\n",
       "    <tr>\n",
       "      <th>248743</th>\n",
       "      <td>248743</td>\n",
       "      <td>362225</td>\n",
       "      <td>28173</td>\n",
       "      <td>What song has the lyrics: ashes on the ground,...</td>\n",
       "      <td>What are some good lyrical songs?</td>\n",
       "      <td>0</td>\n",
       "      <td>69</td>\n",
       "      <td>33</td>\n",
       "      <td>13</td>\n",
       "      <td>6</td>\n",
       "    </tr>\n",
       "  </tbody>\n",
       "</table>\n",
       "</div>"
      ],
      "text/plain": [
       "            id    qid1    qid2  \\\n",
       "225379  225379  333705  333706   \n",
       "295700  295700  412228   71129   \n",
       "242505  242505  354719  354720   \n",
       "372502  372502  246105   57540   \n",
       "248743  248743  362225   28173   \n",
       "\n",
       "                                                question1  \\\n",
       "225379  How does a retailer decide what to sell when a...   \n",
       "295700  What should I do if I want to become an entrep...   \n",
       "242505                   What is impact of Brexit on VAT?   \n",
       "372502                 How could I start my own business?   \n",
       "248743  What song has the lyrics: ashes on the ground,...   \n",
       "\n",
       "                                                question2  is_duplicate  \\\n",
       "225379  How do retailers decide what to sell when arri...             1   \n",
       "295700  What can be the best idea to become an entrepr...             1   \n",
       "242505      What are the origins of blessings and curses?             0   \n",
       "372502                   How do you start a tech startup?             0   \n",
       "248743                  What are some good lyrical songs?             0   \n",
       "\n",
       "        q1_len  q2_len  q1_num_words  q2_num_words  \n",
       "225379      70      67            14            13  \n",
       "295700      82      52            18            10  \n",
       "242505      32      45             7             8  \n",
       "372502      34      32             7             7  \n",
       "248743      69      33            13             6  "
      ]
     },
     "execution_count": 14,
     "metadata": {},
     "output_type": "execute_result"
    }
   ],
   "source": [
    "new_df['q1_num_words'] = new_df['question1'].apply(lambda row: len(row.split(\" \")))\n",
    "new_df['q2_num_words'] = new_df['question2'].apply(lambda row: len(row.split(\" \")))\n",
    "new_df.head()"
   ]
  },
  {
   "cell_type": "code",
   "execution_count": 15,
   "id": "b133c3f3-3389-4f92-a494-23b5fead1590",
   "metadata": {},
   "outputs": [],
   "source": [
    "def common_words(row):\n",
    "    w1 = set(map(lambda word: word.lower().strip(), row['question1'].split(\" \")))\n",
    "    w2 = set(map(lambda word: word.lower().strip(), row['question2'].split(\" \")))    \n",
    "    return len(w1 & w2)"
   ]
  },
  {
   "cell_type": "code",
   "execution_count": 16,
   "id": "a7ea1643-cddf-4c3f-b974-66d5583a20c0",
   "metadata": {},
   "outputs": [
    {
     "data": {
      "text/html": [
       "<div>\n",
       "<style scoped>\n",
       "    .dataframe tbody tr th:only-of-type {\n",
       "        vertical-align: middle;\n",
       "    }\n",
       "\n",
       "    .dataframe tbody tr th {\n",
       "        vertical-align: top;\n",
       "    }\n",
       "\n",
       "    .dataframe thead th {\n",
       "        text-align: right;\n",
       "    }\n",
       "</style>\n",
       "<table border=\"1\" class=\"dataframe\">\n",
       "  <thead>\n",
       "    <tr style=\"text-align: right;\">\n",
       "      <th></th>\n",
       "      <th>id</th>\n",
       "      <th>qid1</th>\n",
       "      <th>qid2</th>\n",
       "      <th>question1</th>\n",
       "      <th>question2</th>\n",
       "      <th>is_duplicate</th>\n",
       "      <th>q1_len</th>\n",
       "      <th>q2_len</th>\n",
       "      <th>q1_num_words</th>\n",
       "      <th>q2_num_words</th>\n",
       "      <th>word_common</th>\n",
       "    </tr>\n",
       "  </thead>\n",
       "  <tbody>\n",
       "    <tr>\n",
       "      <th>225379</th>\n",
       "      <td>225379</td>\n",
       "      <td>333705</td>\n",
       "      <td>333706</td>\n",
       "      <td>How does a retailer decide what to sell when a...</td>\n",
       "      <td>How do retailers decide what to sell when arri...</td>\n",
       "      <td>1</td>\n",
       "      <td>70</td>\n",
       "      <td>67</td>\n",
       "      <td>14</td>\n",
       "      <td>13</td>\n",
       "      <td>10</td>\n",
       "    </tr>\n",
       "    <tr>\n",
       "      <th>295700</th>\n",
       "      <td>295700</td>\n",
       "      <td>412228</td>\n",
       "      <td>71129</td>\n",
       "      <td>What should I do if I want to become an entrep...</td>\n",
       "      <td>What can be the best idea to become an entrepr...</td>\n",
       "      <td>1</td>\n",
       "      <td>82</td>\n",
       "      <td>52</td>\n",
       "      <td>18</td>\n",
       "      <td>10</td>\n",
       "      <td>5</td>\n",
       "    </tr>\n",
       "    <tr>\n",
       "      <th>242505</th>\n",
       "      <td>242505</td>\n",
       "      <td>354719</td>\n",
       "      <td>354720</td>\n",
       "      <td>What is impact of Brexit on VAT?</td>\n",
       "      <td>What are the origins of blessings and curses?</td>\n",
       "      <td>0</td>\n",
       "      <td>32</td>\n",
       "      <td>45</td>\n",
       "      <td>7</td>\n",
       "      <td>8</td>\n",
       "      <td>2</td>\n",
       "    </tr>\n",
       "    <tr>\n",
       "      <th>372502</th>\n",
       "      <td>372502</td>\n",
       "      <td>246105</td>\n",
       "      <td>57540</td>\n",
       "      <td>How could I start my own business?</td>\n",
       "      <td>How do you start a tech startup?</td>\n",
       "      <td>0</td>\n",
       "      <td>34</td>\n",
       "      <td>32</td>\n",
       "      <td>7</td>\n",
       "      <td>7</td>\n",
       "      <td>2</td>\n",
       "    </tr>\n",
       "    <tr>\n",
       "      <th>248743</th>\n",
       "      <td>248743</td>\n",
       "      <td>362225</td>\n",
       "      <td>28173</td>\n",
       "      <td>What song has the lyrics: ashes on the ground,...</td>\n",
       "      <td>What are some good lyrical songs?</td>\n",
       "      <td>0</td>\n",
       "      <td>69</td>\n",
       "      <td>33</td>\n",
       "      <td>13</td>\n",
       "      <td>6</td>\n",
       "      <td>1</td>\n",
       "    </tr>\n",
       "  </tbody>\n",
       "</table>\n",
       "</div>"
      ],
      "text/plain": [
       "            id    qid1    qid2  \\\n",
       "225379  225379  333705  333706   \n",
       "295700  295700  412228   71129   \n",
       "242505  242505  354719  354720   \n",
       "372502  372502  246105   57540   \n",
       "248743  248743  362225   28173   \n",
       "\n",
       "                                                question1  \\\n",
       "225379  How does a retailer decide what to sell when a...   \n",
       "295700  What should I do if I want to become an entrep...   \n",
       "242505                   What is impact of Brexit on VAT?   \n",
       "372502                 How could I start my own business?   \n",
       "248743  What song has the lyrics: ashes on the ground,...   \n",
       "\n",
       "                                                question2  is_duplicate  \\\n",
       "225379  How do retailers decide what to sell when arri...             1   \n",
       "295700  What can be the best idea to become an entrepr...             1   \n",
       "242505      What are the origins of blessings and curses?             0   \n",
       "372502                   How do you start a tech startup?             0   \n",
       "248743                  What are some good lyrical songs?             0   \n",
       "\n",
       "        q1_len  q2_len  q1_num_words  q2_num_words  word_common  \n",
       "225379      70      67            14            13           10  \n",
       "295700      82      52            18            10            5  \n",
       "242505      32      45             7             8            2  \n",
       "372502      34      32             7             7            2  \n",
       "248743      69      33            13             6            1  "
      ]
     },
     "execution_count": 16,
     "metadata": {},
     "output_type": "execute_result"
    }
   ],
   "source": [
    "new_df['word_common'] = new_df.apply(common_words, axis=1)\n",
    "new_df.head()"
   ]
  },
  {
   "cell_type": "code",
   "execution_count": 17,
   "id": "39224e37-08c6-4003-a4b6-cb8c69efa7a0",
   "metadata": {},
   "outputs": [],
   "source": [
    "def total_words(row):\n",
    "    w1 = set(map(lambda word: word.lower().strip(), row['question1'].split(\" \")))\n",
    "    w2 = set(map(lambda word: word.lower().strip(), row['question2'].split(\" \")))    \n",
    "    return (len(w1) + len(w2))"
   ]
  },
  {
   "cell_type": "code",
   "execution_count": 18,
   "id": "829df8c5-142f-4270-8f11-310cebe733cf",
   "metadata": {},
   "outputs": [
    {
     "data": {
      "text/html": [
       "<div>\n",
       "<style scoped>\n",
       "    .dataframe tbody tr th:only-of-type {\n",
       "        vertical-align: middle;\n",
       "    }\n",
       "\n",
       "    .dataframe tbody tr th {\n",
       "        vertical-align: top;\n",
       "    }\n",
       "\n",
       "    .dataframe thead th {\n",
       "        text-align: right;\n",
       "    }\n",
       "</style>\n",
       "<table border=\"1\" class=\"dataframe\">\n",
       "  <thead>\n",
       "    <tr style=\"text-align: right;\">\n",
       "      <th></th>\n",
       "      <th>id</th>\n",
       "      <th>qid1</th>\n",
       "      <th>qid2</th>\n",
       "      <th>question1</th>\n",
       "      <th>question2</th>\n",
       "      <th>is_duplicate</th>\n",
       "      <th>q1_len</th>\n",
       "      <th>q2_len</th>\n",
       "      <th>q1_num_words</th>\n",
       "      <th>q2_num_words</th>\n",
       "      <th>word_common</th>\n",
       "      <th>word_total</th>\n",
       "    </tr>\n",
       "  </thead>\n",
       "  <tbody>\n",
       "    <tr>\n",
       "      <th>225379</th>\n",
       "      <td>225379</td>\n",
       "      <td>333705</td>\n",
       "      <td>333706</td>\n",
       "      <td>How does a retailer decide what to sell when a...</td>\n",
       "      <td>How do retailers decide what to sell when arri...</td>\n",
       "      <td>1</td>\n",
       "      <td>70</td>\n",
       "      <td>67</td>\n",
       "      <td>14</td>\n",
       "      <td>13</td>\n",
       "      <td>10</td>\n",
       "      <td>24</td>\n",
       "    </tr>\n",
       "    <tr>\n",
       "      <th>295700</th>\n",
       "      <td>295700</td>\n",
       "      <td>412228</td>\n",
       "      <td>71129</td>\n",
       "      <td>What should I do if I want to become an entrep...</td>\n",
       "      <td>What can be the best idea to become an entrepr...</td>\n",
       "      <td>1</td>\n",
       "      <td>82</td>\n",
       "      <td>52</td>\n",
       "      <td>18</td>\n",
       "      <td>10</td>\n",
       "      <td>5</td>\n",
       "      <td>26</td>\n",
       "    </tr>\n",
       "    <tr>\n",
       "      <th>242505</th>\n",
       "      <td>242505</td>\n",
       "      <td>354719</td>\n",
       "      <td>354720</td>\n",
       "      <td>What is impact of Brexit on VAT?</td>\n",
       "      <td>What are the origins of blessings and curses?</td>\n",
       "      <td>0</td>\n",
       "      <td>32</td>\n",
       "      <td>45</td>\n",
       "      <td>7</td>\n",
       "      <td>8</td>\n",
       "      <td>2</td>\n",
       "      <td>15</td>\n",
       "    </tr>\n",
       "    <tr>\n",
       "      <th>372502</th>\n",
       "      <td>372502</td>\n",
       "      <td>246105</td>\n",
       "      <td>57540</td>\n",
       "      <td>How could I start my own business?</td>\n",
       "      <td>How do you start a tech startup?</td>\n",
       "      <td>0</td>\n",
       "      <td>34</td>\n",
       "      <td>32</td>\n",
       "      <td>7</td>\n",
       "      <td>7</td>\n",
       "      <td>2</td>\n",
       "      <td>14</td>\n",
       "    </tr>\n",
       "    <tr>\n",
       "      <th>248743</th>\n",
       "      <td>248743</td>\n",
       "      <td>362225</td>\n",
       "      <td>28173</td>\n",
       "      <td>What song has the lyrics: ashes on the ground,...</td>\n",
       "      <td>What are some good lyrical songs?</td>\n",
       "      <td>0</td>\n",
       "      <td>69</td>\n",
       "      <td>33</td>\n",
       "      <td>13</td>\n",
       "      <td>6</td>\n",
       "      <td>1</td>\n",
       "      <td>17</td>\n",
       "    </tr>\n",
       "  </tbody>\n",
       "</table>\n",
       "</div>"
      ],
      "text/plain": [
       "            id    qid1    qid2  \\\n",
       "225379  225379  333705  333706   \n",
       "295700  295700  412228   71129   \n",
       "242505  242505  354719  354720   \n",
       "372502  372502  246105   57540   \n",
       "248743  248743  362225   28173   \n",
       "\n",
       "                                                question1  \\\n",
       "225379  How does a retailer decide what to sell when a...   \n",
       "295700  What should I do if I want to become an entrep...   \n",
       "242505                   What is impact of Brexit on VAT?   \n",
       "372502                 How could I start my own business?   \n",
       "248743  What song has the lyrics: ashes on the ground,...   \n",
       "\n",
       "                                                question2  is_duplicate  \\\n",
       "225379  How do retailers decide what to sell when arri...             1   \n",
       "295700  What can be the best idea to become an entrepr...             1   \n",
       "242505      What are the origins of blessings and curses?             0   \n",
       "372502                   How do you start a tech startup?             0   \n",
       "248743                  What are some good lyrical songs?             0   \n",
       "\n",
       "        q1_len  q2_len  q1_num_words  q2_num_words  word_common  word_total  \n",
       "225379      70      67            14            13           10          24  \n",
       "295700      82      52            18            10            5          26  \n",
       "242505      32      45             7             8            2          15  \n",
       "372502      34      32             7             7            2          14  \n",
       "248743      69      33            13             6            1          17  "
      ]
     },
     "execution_count": 18,
     "metadata": {},
     "output_type": "execute_result"
    }
   ],
   "source": [
    "new_df['word_total'] = new_df.apply(total_words, axis=1)\n",
    "new_df.head()"
   ]
  },
  {
   "cell_type": "code",
   "execution_count": 19,
   "id": "171dc618-c176-4931-bb53-237ff6a79246",
   "metadata": {},
   "outputs": [
    {
     "data": {
      "text/html": [
       "<div>\n",
       "<style scoped>\n",
       "    .dataframe tbody tr th:only-of-type {\n",
       "        vertical-align: middle;\n",
       "    }\n",
       "\n",
       "    .dataframe tbody tr th {\n",
       "        vertical-align: top;\n",
       "    }\n",
       "\n",
       "    .dataframe thead th {\n",
       "        text-align: right;\n",
       "    }\n",
       "</style>\n",
       "<table border=\"1\" class=\"dataframe\">\n",
       "  <thead>\n",
       "    <tr style=\"text-align: right;\">\n",
       "      <th></th>\n",
       "      <th>id</th>\n",
       "      <th>qid1</th>\n",
       "      <th>qid2</th>\n",
       "      <th>question1</th>\n",
       "      <th>question2</th>\n",
       "      <th>is_duplicate</th>\n",
       "      <th>q1_len</th>\n",
       "      <th>q2_len</th>\n",
       "      <th>q1_num_words</th>\n",
       "      <th>q2_num_words</th>\n",
       "      <th>word_common</th>\n",
       "      <th>word_total</th>\n",
       "      <th>word_share</th>\n",
       "    </tr>\n",
       "  </thead>\n",
       "  <tbody>\n",
       "    <tr>\n",
       "      <th>225379</th>\n",
       "      <td>225379</td>\n",
       "      <td>333705</td>\n",
       "      <td>333706</td>\n",
       "      <td>How does a retailer decide what to sell when a...</td>\n",
       "      <td>How do retailers decide what to sell when arri...</td>\n",
       "      <td>1</td>\n",
       "      <td>70</td>\n",
       "      <td>67</td>\n",
       "      <td>14</td>\n",
       "      <td>13</td>\n",
       "      <td>10</td>\n",
       "      <td>24</td>\n",
       "      <td>0.42</td>\n",
       "    </tr>\n",
       "    <tr>\n",
       "      <th>295700</th>\n",
       "      <td>295700</td>\n",
       "      <td>412228</td>\n",
       "      <td>71129</td>\n",
       "      <td>What should I do if I want to become an entrep...</td>\n",
       "      <td>What can be the best idea to become an entrepr...</td>\n",
       "      <td>1</td>\n",
       "      <td>82</td>\n",
       "      <td>52</td>\n",
       "      <td>18</td>\n",
       "      <td>10</td>\n",
       "      <td>5</td>\n",
       "      <td>26</td>\n",
       "      <td>0.19</td>\n",
       "    </tr>\n",
       "    <tr>\n",
       "      <th>242505</th>\n",
       "      <td>242505</td>\n",
       "      <td>354719</td>\n",
       "      <td>354720</td>\n",
       "      <td>What is impact of Brexit on VAT?</td>\n",
       "      <td>What are the origins of blessings and curses?</td>\n",
       "      <td>0</td>\n",
       "      <td>32</td>\n",
       "      <td>45</td>\n",
       "      <td>7</td>\n",
       "      <td>8</td>\n",
       "      <td>2</td>\n",
       "      <td>15</td>\n",
       "      <td>0.13</td>\n",
       "    </tr>\n",
       "    <tr>\n",
       "      <th>372502</th>\n",
       "      <td>372502</td>\n",
       "      <td>246105</td>\n",
       "      <td>57540</td>\n",
       "      <td>How could I start my own business?</td>\n",
       "      <td>How do you start a tech startup?</td>\n",
       "      <td>0</td>\n",
       "      <td>34</td>\n",
       "      <td>32</td>\n",
       "      <td>7</td>\n",
       "      <td>7</td>\n",
       "      <td>2</td>\n",
       "      <td>14</td>\n",
       "      <td>0.14</td>\n",
       "    </tr>\n",
       "    <tr>\n",
       "      <th>248743</th>\n",
       "      <td>248743</td>\n",
       "      <td>362225</td>\n",
       "      <td>28173</td>\n",
       "      <td>What song has the lyrics: ashes on the ground,...</td>\n",
       "      <td>What are some good lyrical songs?</td>\n",
       "      <td>0</td>\n",
       "      <td>69</td>\n",
       "      <td>33</td>\n",
       "      <td>13</td>\n",
       "      <td>6</td>\n",
       "      <td>1</td>\n",
       "      <td>17</td>\n",
       "      <td>0.06</td>\n",
       "    </tr>\n",
       "  </tbody>\n",
       "</table>\n",
       "</div>"
      ],
      "text/plain": [
       "            id    qid1    qid2  \\\n",
       "225379  225379  333705  333706   \n",
       "295700  295700  412228   71129   \n",
       "242505  242505  354719  354720   \n",
       "372502  372502  246105   57540   \n",
       "248743  248743  362225   28173   \n",
       "\n",
       "                                                question1  \\\n",
       "225379  How does a retailer decide what to sell when a...   \n",
       "295700  What should I do if I want to become an entrep...   \n",
       "242505                   What is impact of Brexit on VAT?   \n",
       "372502                 How could I start my own business?   \n",
       "248743  What song has the lyrics: ashes on the ground,...   \n",
       "\n",
       "                                                question2  is_duplicate  \\\n",
       "225379  How do retailers decide what to sell when arri...             1   \n",
       "295700  What can be the best idea to become an entrepr...             1   \n",
       "242505      What are the origins of blessings and curses?             0   \n",
       "372502                   How do you start a tech startup?             0   \n",
       "248743                  What are some good lyrical songs?             0   \n",
       "\n",
       "        q1_len  q2_len  q1_num_words  q2_num_words  word_common  word_total  \\\n",
       "225379      70      67            14            13           10          24   \n",
       "295700      82      52            18            10            5          26   \n",
       "242505      32      45             7             8            2          15   \n",
       "372502      34      32             7             7            2          14   \n",
       "248743      69      33            13             6            1          17   \n",
       "\n",
       "        word_share  \n",
       "225379        0.42  \n",
       "295700        0.19  \n",
       "242505        0.13  \n",
       "372502        0.14  \n",
       "248743        0.06  "
      ]
     },
     "execution_count": 19,
     "metadata": {},
     "output_type": "execute_result"
    }
   ],
   "source": [
    "new_df['word_share'] = round(new_df['word_common']/new_df['word_total'],2)\n",
    "new_df.head()"
   ]
  },
  {
   "cell_type": "code",
   "execution_count": 20,
   "id": "a4e3a8d5-bdb8-4297-9cd7-708165fb46b9",
   "metadata": {},
   "outputs": [
    {
     "name": "stdout",
     "output_type": "stream",
     "text": [
      "minimum characters 1\n",
      "maximum characters 343\n",
      "average num of characters 59\n"
     ]
    },
    {
     "data": {
      "image/png": "[encoded data removed]",
      "text/plain": [
       "<Figure size 500x500 with 1 Axes>"
      ]
     },
     "metadata": {},
     "output_type": "display_data"
    }
   ],
   "source": [
    "sns.displot(new_df['q1_len'])\n",
    "print('minimum characters',new_df['q1_len'].min())\n",
    "print('maximum characters',new_df['q1_len'].max())\n",
    "print('average num of characters',int(new_df['q1_len'].mean()))"
   ]
  },
  {
   "cell_type": "code",
   "execution_count": 21,
   "id": "74f09d35-2453-456d-8d93-2a30ffe84647",
   "metadata": {},
   "outputs": [
    {
     "name": "stdout",
     "output_type": "stream",
     "text": [
      "minimum characters 5\n",
      "maximum characters 823\n",
      "average num of characters 60\n"
     ]
    },
    {
     "data": {
      "image/png": "[encoded data removed]",
      "text/plain": [
       "<Figure size 500x500 with 1 Axes>"
      ]
     },
     "metadata": {},
     "output_type": "display_data"
    }
   ],
   "source": [
    "sns.displot(new_df['q2_len'])\n",
    "print('minimum characters',new_df['q2_len'].min())\n",
    "print('maximum characters',new_df['q2_len'].max())\n",
    "print('average num of characters',int(new_df['q2_len'].mean()))"
   ]
  },
  {
   "cell_type": "code",
   "execution_count": 22,
   "id": "4390c515-932f-4c9a-aea2-7836fb158a6b",
   "metadata": {},
   "outputs": [
    {
     "name": "stdout",
     "output_type": "stream",
     "text": [
      "minimum words 1\n",
      "maximum words 65\n",
      "average num of words 10\n"
     ]
    },
    {
     "data": {
      "image/png": "[encoded data removed]",
      "text/plain": [
       "<Figure size 500x500 with 1 Axes>"
      ]
     },
     "metadata": {},
     "output_type": "display_data"
    }
   ],
   "source": [
    "sns.displot(new_df['q1_num_words'])\n",
    "print('minimum words',new_df['q1_num_words'].min())\n",
    "print('maximum words',new_df['q1_num_words'].max())\n",
    "print('average num of words',int(new_df['q1_num_words'].mean()))"
   ]
  },
  {
   "cell_type": "code",
   "execution_count": 23,
   "id": "d7fb0957-92fd-4934-88d0-2ad81ea0f6f4",
   "metadata": {},
   "outputs": [
    {
     "name": "stdout",
     "output_type": "stream",
     "text": [
      "minimum words 1\n",
      "maximum words 149\n",
      "average num of words 11\n"
     ]
    },
    {
     "data": {
      "image/png": "[encoded data removed]",
      "text/plain": [
       "<Figure size 500x500 with 1 Axes>"
      ]
     },
     "metadata": {},
     "output_type": "display_data"
    }
   ],
   "source": [
    "sns.displot(new_df['q2_num_words'])\n",
    "print('minimum words',new_df['q2_num_words'].min())\n",
    "print('maximum words',new_df['q2_num_words'].max())\n",
    "print('average num of words',int(new_df['q2_num_words'].mean()))"
   ]
  },
  {
   "cell_type": "code",
   "execution_count": 24,
   "id": "fbb3d355-8b97-4444-9bfd-11b4505e233a",
   "metadata": {},
   "outputs": [
    {
     "data": {
      "image/png": "[encoded data removed]",
      "text/plain": [
       "<Figure size 640x480 with 1 Axes>"
      ]
     },
     "metadata": {},
     "output_type": "display_data"
    }
   ],
   "source": [
    "sns.distplot(new_df[new_df['is_duplicate'] == 0]['word_common'],label='non duplicate')\n",
    "sns.distplot(new_df[new_df['is_duplicate'] == 1]['word_common'],label='duplicate')\n",
    "plt.legend()\n",
    "plt.show()"
   ]
  },
  {
   "cell_type": "code",
   "execution_count": 25,
   "id": "b6565508-6124-4047-b44b-5b8feb719801",
   "metadata": {},
   "outputs": [
    {
     "data": {
      "image/png": "[encoded data removed]",
      "text/plain": [
       "<Figure size 640x480 with 1 Axes>"
      ]
     },
     "metadata": {},
     "output_type": "display_data"
    }
   ],
   "source": [
    "sns.distplot(new_df[new_df['is_duplicate'] == 0]['word_total'],label='non duplicate')\n",
    "sns.distplot(new_df[new_df['is_duplicate'] == 1]['word_total'],label='duplicate')\n",
    "plt.legend()\n",
    "plt.show()"
   ]
  },
  {
   "cell_type": "code",
   "execution_count": 26,
   "id": "72b6b379-c133-4e05-bb26-1373b00b1bcd",
   "metadata": {},
   "outputs": [
    {
     "data": {
      "image/png": "[encoded data removed]",
      "text/plain": [
       "<Figure size 640x480 with 1 Axes>"
      ]
     },
     "metadata": {},
     "output_type": "display_data"
    }
   ],
   "source": [
    "sns.distplot(new_df[new_df['is_duplicate'] == 0]['word_share'],label='non duplicate')\n",
    "sns.distplot(new_df[new_df['is_duplicate'] == 1]['word_share'],label='duplicate')\n",
    "plt.legend()\n",
    "plt.show()"
   ]
  },
  {
   "cell_type": "code",
   "execution_count": 27,
   "id": "f8818bc6-9276-42da-97f3-415d764604e6",
   "metadata": {},
   "outputs": [
    {
     "data": {
      "text/html": [
       "<div>\n",
       "<style scoped>\n",
       "    .dataframe tbody tr th:only-of-type {\n",
       "        vertical-align: middle;\n",
       "    }\n",
       "\n",
       "    .dataframe tbody tr th {\n",
       "        vertical-align: top;\n",
       "    }\n",
       "\n",
       "    .dataframe thead th {\n",
       "        text-align: right;\n",
       "    }\n",
       "</style>\n",
       "<table border=\"1\" class=\"dataframe\">\n",
       "  <thead>\n",
       "    <tr style=\"text-align: right;\">\n",
       "      <th></th>\n",
       "      <th>question1</th>\n",
       "      <th>question2</th>\n",
       "    </tr>\n",
       "  </thead>\n",
       "  <tbody>\n",
       "    <tr>\n",
       "      <th>225379</th>\n",
       "      <td>How does a retailer decide what to sell when a...</td>\n",
       "      <td>How do retailers decide what to sell when arri...</td>\n",
       "    </tr>\n",
       "    <tr>\n",
       "      <th>295700</th>\n",
       "      <td>What should I do if I want to become an entrep...</td>\n",
       "      <td>What can be the best idea to become an entrepr...</td>\n",
       "    </tr>\n",
       "    <tr>\n",
       "      <th>242505</th>\n",
       "      <td>What is impact of Brexit on VAT?</td>\n",
       "      <td>What are the origins of blessings and curses?</td>\n",
       "    </tr>\n",
       "    <tr>\n",
       "      <th>372502</th>\n",
       "      <td>How could I start my own business?</td>\n",
       "      <td>How do you start a tech startup?</td>\n",
       "    </tr>\n",
       "    <tr>\n",
       "      <th>248743</th>\n",
       "      <td>What song has the lyrics: ashes on the ground,...</td>\n",
       "      <td>What are some good lyrical songs?</td>\n",
       "    </tr>\n",
       "  </tbody>\n",
       "</table>\n",
       "</div>"
      ],
      "text/plain": [
       "                                                question1  \\\n",
       "225379  How does a retailer decide what to sell when a...   \n",
       "295700  What should I do if I want to become an entrep...   \n",
       "242505                   What is impact of Brexit on VAT?   \n",
       "372502                 How could I start my own business?   \n",
       "248743  What song has the lyrics: ashes on the ground,...   \n",
       "\n",
       "                                                question2  \n",
       "225379  How do retailers decide what to sell when arri...  \n",
       "295700  What can be the best idea to become an entrepr...  \n",
       "242505      What are the origins of blessings and curses?  \n",
       "372502                   How do you start a tech startup?  \n",
       "248743                  What are some good lyrical songs?  "
      ]
     },
     "execution_count": 27,
     "metadata": {},
     "output_type": "execute_result"
    }
   ],
   "source": [
    "ques_df = new_df[['question1','question2']]\n",
    "ques_df.head()"
   ]
  },
  {
   "cell_type": "code",
   "execution_count": 28,
   "id": "c588fed7-027b-4717-9f62-41571f23478f",
   "metadata": {},
   "outputs": [
    {
     "name": "stdout",
     "output_type": "stream",
     "text": [
      "(30000, 8)\n"
     ]
    },
    {
     "data": {
      "text/html": [
       "<div>\n",
       "<style scoped>\n",
       "    .dataframe tbody tr th:only-of-type {\n",
       "        vertical-align: middle;\n",
       "    }\n",
       "\n",
       "    .dataframe tbody tr th {\n",
       "        vertical-align: top;\n",
       "    }\n",
       "\n",
       "    .dataframe thead th {\n",
       "        text-align: right;\n",
       "    }\n",
       "</style>\n",
       "<table border=\"1\" class=\"dataframe\">\n",
       "  <thead>\n",
       "    <tr style=\"text-align: right;\">\n",
       "      <th></th>\n",
       "      <th>is_duplicate</th>\n",
       "      <th>q1_len</th>\n",
       "      <th>q2_len</th>\n",
       "      <th>q1_num_words</th>\n",
       "      <th>q2_num_words</th>\n",
       "      <th>word_common</th>\n",
       "      <th>word_total</th>\n",
       "      <th>word_share</th>\n",
       "    </tr>\n",
       "  </thead>\n",
       "  <tbody>\n",
       "    <tr>\n",
       "      <th>225379</th>\n",
       "      <td>1</td>\n",
       "      <td>70</td>\n",
       "      <td>67</td>\n",
       "      <td>14</td>\n",
       "      <td>13</td>\n",
       "      <td>10</td>\n",
       "      <td>24</td>\n",
       "      <td>0.42</td>\n",
       "    </tr>\n",
       "    <tr>\n",
       "      <th>295700</th>\n",
       "      <td>1</td>\n",
       "      <td>82</td>\n",
       "      <td>52</td>\n",
       "      <td>18</td>\n",
       "      <td>10</td>\n",
       "      <td>5</td>\n",
       "      <td>26</td>\n",
       "      <td>0.19</td>\n",
       "    </tr>\n",
       "    <tr>\n",
       "      <th>242505</th>\n",
       "      <td>0</td>\n",
       "      <td>32</td>\n",
       "      <td>45</td>\n",
       "      <td>7</td>\n",
       "      <td>8</td>\n",
       "      <td>2</td>\n",
       "      <td>15</td>\n",
       "      <td>0.13</td>\n",
       "    </tr>\n",
       "    <tr>\n",
       "      <th>372502</th>\n",
       "      <td>0</td>\n",
       "      <td>34</td>\n",
       "      <td>32</td>\n",
       "      <td>7</td>\n",
       "      <td>7</td>\n",
       "      <td>2</td>\n",
       "      <td>14</td>\n",
       "      <td>0.14</td>\n",
       "    </tr>\n",
       "    <tr>\n",
       "      <th>248743</th>\n",
       "      <td>0</td>\n",
       "      <td>69</td>\n",
       "      <td>33</td>\n",
       "      <td>13</td>\n",
       "      <td>6</td>\n",
       "      <td>1</td>\n",
       "      <td>17</td>\n",
       "      <td>0.06</td>\n",
       "    </tr>\n",
       "  </tbody>\n",
       "</table>\n",
       "</div>"
      ],
      "text/plain": [
       "        is_duplicate  q1_len  q2_len  q1_num_words  q2_num_words  word_common  \\\n",
       "225379             1      70      67            14            13           10   \n",
       "295700             1      82      52            18            10            5   \n",
       "242505             0      32      45             7             8            2   \n",
       "372502             0      34      32             7             7            2   \n",
       "248743             0      69      33            13             6            1   \n",
       "\n",
       "        word_total  word_share  \n",
       "225379          24        0.42  \n",
       "295700          26        0.19  \n",
       "242505          15        0.13  \n",
       "372502          14        0.14  \n",
       "248743          17        0.06  "
      ]
     },
     "execution_count": 28,
     "metadata": {},
     "output_type": "execute_result"
    }
   ],
   "source": [
    "final_df = new_df.drop(columns=['id','qid1','qid2','question1','question2'])\n",
    "print(final_df.shape)\n",
    "final_df.head()"
   ]
  },
  {
   "cell_type": "code",
   "execution_count": 29,
   "id": "6dec8877-e735-43f5-9366-b61f02de24c9",
   "metadata": {},
   "outputs": [],
   "source": [
    "from sklearn.feature_extraction.text import CountVectorizer\n",
    "# merge texts\n",
    "questions = list(ques_df['question1']) + list(ques_df['question2'])\n",
    "\n",
    "cv = CountVectorizer(max_features=3000)\n",
    "q1_arr, q2_arr = np.vsplit(cv.fit_transform(questions).toarray(),2)"
   ]
  },
  {
   "cell_type": "code",
   "execution_count": 30,
   "id": "e02cb572-8d55-4473-a08e-f10830b837dc",
   "metadata": {},
   "outputs": [
    {
     "data": {
      "text/plain": [
       "(30000, 6000)"
      ]
     },
     "execution_count": 30,
     "metadata": {},
     "output_type": "execute_result"
    }
   ],
   "source": [
    "temp_df1 = pd.DataFrame(q1_arr, index= ques_df.index)\n",
    "temp_df2 = pd.DataFrame(q2_arr, index= ques_df.index)\n",
    "temp_df = pd.concat([temp_df1, temp_df2], axis=1)\n",
    "temp_df.shape"
   ]
  },
  {
   "cell_type": "code",
   "execution_count": 31,
   "id": "4cdf3eb9-e105-49a3-a707-ca7a5a667698",
   "metadata": {},
   "outputs": [
    {
     "name": "stdout",
     "output_type": "stream",
     "text": [
      "(30000, 6008)\n"
     ]
    },
    {
     "data": {
      "text/html": [
       "<div>\n",
       "<style scoped>\n",
       "    .dataframe tbody tr th:only-of-type {\n",
       "        vertical-align: middle;\n",
       "    }\n",
       "\n",
       "    .dataframe tbody tr th {\n",
       "        vertical-align: top;\n",
       "    }\n",
       "\n",
       "    .dataframe thead th {\n",
       "        text-align: right;\n",
       "    }\n",
       "</style>\n",
       "<table border=\"1\" class=\"dataframe\">\n",
       "  <thead>\n",
       "    <tr style=\"text-align: right;\">\n",
       "      <th></th>\n",
       "      <th>is_duplicate</th>\n",
       "      <th>q1_len</th>\n",
       "      <th>q2_len</th>\n",
       "      <th>q1_num_words</th>\n",
       "      <th>q2_num_words</th>\n",
       "      <th>word_common</th>\n",
       "      <th>word_total</th>\n",
       "      <th>word_share</th>\n",
       "      <th>0</th>\n",
       "      <th>1</th>\n",
       "      <th>...</th>\n",
       "      <th>2990</th>\n",
       "      <th>2991</th>\n",
       "      <th>2992</th>\n",
       "      <th>2993</th>\n",
       "      <th>2994</th>\n",
       "      <th>2995</th>\n",
       "      <th>2996</th>\n",
       "      <th>2997</th>\n",
       "      <th>2998</th>\n",
       "      <th>2999</th>\n",
       "    </tr>\n",
       "  </thead>\n",
       "  <tbody>\n",
       "    <tr>\n",
       "      <th>225379</th>\n",
       "      <td>1</td>\n",
       "      <td>70</td>\n",
       "      <td>67</td>\n",
       "      <td>14</td>\n",
       "      <td>13</td>\n",
       "      <td>10</td>\n",
       "      <td>24</td>\n",
       "      <td>0.42</td>\n",
       "      <td>0</td>\n",
       "      <td>0</td>\n",
       "      <td>...</td>\n",
       "      <td>0</td>\n",
       "      <td>0</td>\n",
       "      <td>0</td>\n",
       "      <td>0</td>\n",
       "      <td>0</td>\n",
       "      <td>0</td>\n",
       "      <td>0</td>\n",
       "      <td>0</td>\n",
       "      <td>0</td>\n",
       "      <td>0</td>\n",
       "    </tr>\n",
       "    <tr>\n",
       "      <th>295700</th>\n",
       "      <td>1</td>\n",
       "      <td>82</td>\n",
       "      <td>52</td>\n",
       "      <td>18</td>\n",
       "      <td>10</td>\n",
       "      <td>5</td>\n",
       "      <td>26</td>\n",
       "      <td>0.19</td>\n",
       "      <td>0</td>\n",
       "      <td>0</td>\n",
       "      <td>...</td>\n",
       "      <td>0</td>\n",
       "      <td>0</td>\n",
       "      <td>0</td>\n",
       "      <td>0</td>\n",
       "      <td>0</td>\n",
       "      <td>0</td>\n",
       "      <td>0</td>\n",
       "      <td>0</td>\n",
       "      <td>0</td>\n",
       "      <td>0</td>\n",
       "    </tr>\n",
       "    <tr>\n",
       "      <th>242505</th>\n",
       "      <td>0</td>\n",
       "      <td>32</td>\n",
       "      <td>45</td>\n",
       "      <td>7</td>\n",
       "      <td>8</td>\n",
       "      <td>2</td>\n",
       "      <td>15</td>\n",
       "      <td>0.13</td>\n",
       "      <td>0</td>\n",
       "      <td>0</td>\n",
       "      <td>...</td>\n",
       "      <td>0</td>\n",
       "      <td>0</td>\n",
       "      <td>0</td>\n",
       "      <td>0</td>\n",
       "      <td>0</td>\n",
       "      <td>0</td>\n",
       "      <td>0</td>\n",
       "      <td>0</td>\n",
       "      <td>0</td>\n",
       "      <td>0</td>\n",
       "    </tr>\n",
       "    <tr>\n",
       "      <th>372502</th>\n",
       "      <td>0</td>\n",
       "      <td>34</td>\n",
       "      <td>32</td>\n",
       "      <td>7</td>\n",
       "      <td>7</td>\n",
       "      <td>2</td>\n",
       "      <td>14</td>\n",
       "      <td>0.14</td>\n",
       "      <td>0</td>\n",
       "      <td>0</td>\n",
       "      <td>...</td>\n",
       "      <td>0</td>\n",
       "      <td>0</td>\n",
       "      <td>1</td>\n",
       "      <td>0</td>\n",
       "      <td>0</td>\n",
       "      <td>0</td>\n",
       "      <td>0</td>\n",
       "      <td>0</td>\n",
       "      <td>0</td>\n",
       "      <td>0</td>\n",
       "    </tr>\n",
       "    <tr>\n",
       "      <th>248743</th>\n",
       "      <td>0</td>\n",
       "      <td>69</td>\n",
       "      <td>33</td>\n",
       "      <td>13</td>\n",
       "      <td>6</td>\n",
       "      <td>1</td>\n",
       "      <td>17</td>\n",
       "      <td>0.06</td>\n",
       "      <td>0</td>\n",
       "      <td>0</td>\n",
       "      <td>...</td>\n",
       "      <td>0</td>\n",
       "      <td>0</td>\n",
       "      <td>0</td>\n",
       "      <td>0</td>\n",
       "      <td>0</td>\n",
       "      <td>0</td>\n",
       "      <td>0</td>\n",
       "      <td>0</td>\n",
       "      <td>0</td>\n",
       "      <td>0</td>\n",
       "    </tr>\n",
       "  </tbody>\n",
       "</table>\n",
       "<p>5 rows × 6008 columns</p>\n",
       "</div>"
      ],
      "text/plain": [
       "        is_duplicate  q1_len  q2_len  q1_num_words  q2_num_words  word_common  \\\n",
       "225379             1      70      67            14            13           10   \n",
       "295700             1      82      52            18            10            5   \n",
       "242505             0      32      45             7             8            2   \n",
       "372502             0      34      32             7             7            2   \n",
       "248743             0      69      33            13             6            1   \n",
       "\n",
       "        word_total  word_share  0  1  ...  2990  2991  2992  2993  2994  2995  \\\n",
       "225379          24        0.42  0  0  ...     0     0     0     0     0     0   \n",
       "295700          26        0.19  0  0  ...     0     0     0     0     0     0   \n",
       "242505          15        0.13  0  0  ...     0     0     0     0     0     0   \n",
       "372502          14        0.14  0  0  ...     0     0     1     0     0     0   \n",
       "248743          17        0.06  0  0  ...     0     0     0     0     0     0   \n",
       "\n",
       "        2996  2997  2998  2999  \n",
       "225379     0     0     0     0  \n",
       "295700     0     0     0     0  \n",
       "242505     0     0     0     0  \n",
       "372502     0     0     0     0  \n",
       "248743     0     0     0     0  \n",
       "\n",
       "[5 rows x 6008 columns]"
      ]
     },
     "execution_count": 31,
     "metadata": {},
     "output_type": "execute_result"
    }
   ],
   "source": [
    "final_df = pd.concat([final_df, temp_df], axis=1)\n",
    "print(final_df.shape)\n",
    "final_df.head()"
   ]
  },
  {
   "cell_type": "code",
   "execution_count": 32,
   "id": "5b4c3dc2-bd6d-44e4-827e-e76ff847ecd6",
   "metadata": {},
   "outputs": [],
   "source": [
    "from sklearn.model_selection import train_test_split\n",
    "X_train,X_test,y_train,y_test = train_test_split(final_df.iloc[:,1:].values,final_df.iloc[:,0].values,test_size=0.2,random_state=1)"
   ]
  },
  {
   "cell_type": "code",
   "execution_count": 33,
   "id": "ead4ded0-bf96-4bbb-9a69-700903ea4bab",
   "metadata": {},
   "outputs": [
    {
     "data": {
      "text/plain": [
       "0.7686666666666667"
      ]
     },
     "execution_count": 33,
     "metadata": {},
     "output_type": "execute_result"
    }
   ],
   "source": [
    "from sklearn.ensemble import RandomForestClassifier\n",
    "from sklearn.metrics import accuracy_score\n",
    "rf = RandomForestClassifier()\n",
    "rf.fit(X_train,y_train)\n",
    "y_pred = rf.predict(X_test)\n",
    "accuracy_score(y_test,y_pred)"
   ]
  },
  {
   "cell_type": "code",
   "execution_count": 34,
   "id": "07cc76c7-9094-42b7-84ce-4a8e21d47512",
   "metadata": {},
   "outputs": [
    {
     "data": {
      "text/plain": [
       "0.7653333333333333"
      ]
     },
     "execution_count": 34,
     "metadata": {},
     "output_type": "execute_result"
    }
   ],
   "source": [
    "from xgboost import XGBClassifier\n",
    "xgb = XGBClassifier()\n",
    "xgb.fit(X_train,y_train)\n",
    "y_pred = xgb.predict(X_test)\n",
    "accuracy_score(y_test,y_pred)"
   ]
  },
  {
   "cell_type": "code",
   "execution_count": null,
   "id": "8afc91b2-b6ed-49b0-a463-0743c4ba1dd3",
   "metadata": {},
   "outputs": [],
   "source": []
  }
 ],
 "metadata": {
  "kernelspec": {
   "display_name": "Python 3 (ipykernel)",
   "language": "python",
   "name": "python3"
  },
  "language_info": {
   "codemirror_mode": {
    "name": "ipython",
    "version": 3
   },
   "file_extension": ".py",
   "mimetype": "text/x-python",
   "name": "python",
   "nbconvert_exporter": "python",
   "pygments_lexer": "ipython3",
   "version": "3.12.4"
  }
 },
 "nbformat": 4,
 "nbformat_minor": 5
}
